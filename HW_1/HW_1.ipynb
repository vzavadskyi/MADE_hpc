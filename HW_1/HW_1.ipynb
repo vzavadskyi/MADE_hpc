{
 "cells": [
  {
   "cell_type": "code",
   "execution_count": 1,
   "id": "e4787b0a",
   "metadata": {},
   "outputs": [],
   "source": [
    "import os\n",
    "import pandas as pd\n",
    "import copy\n",
    "import numpy as np\n",
    "from sklearn.linear_model import LinearRegression"
   ]
  },
  {
   "cell_type": "markdown",
   "id": "023e83ec",
   "metadata": {},
   "source": [
    "# На основании данных рейтинга top500 спрогнозировать производительность компьютера №1 в 2025"
   ]
  },
  {
   "cell_type": "code",
   "execution_count": 2,
   "id": "b8b819d9",
   "metadata": {},
   "outputs": [],
   "source": [
    "file = pd.read_csv('top500/june 1993.csv', header=None)\n"
   ]
  },
  {
   "cell_type": "code",
   "execution_count": 3,
   "id": "c60af64e",
   "metadata": {},
   "outputs": [
    {
     "data": {
      "text/html": [
       "<div>\n",
       "<style scoped>\n",
       "    .dataframe tbody tr th:only-of-type {\n",
       "        vertical-align: middle;\n",
       "    }\n",
       "\n",
       "    .dataframe tbody tr th {\n",
       "        vertical-align: top;\n",
       "    }\n",
       "\n",
       "    .dataframe thead th {\n",
       "        text-align: right;\n",
       "    }\n",
       "</style>\n",
       "<table border=\"1\" class=\"dataframe\">\n",
       "  <thead>\n",
       "    <tr style=\"text-align: right;\">\n",
       "      <th></th>\n",
       "      <th>0</th>\n",
       "      <th>1</th>\n",
       "      <th>2</th>\n",
       "      <th>3</th>\n",
       "      <th>4</th>\n",
       "      <th>5</th>\n",
       "      <th>6</th>\n",
       "      <th>7</th>\n",
       "      <th>8</th>\n",
       "      <th>9</th>\n",
       "      <th>10</th>\n",
       "      <th>11</th>\n",
       "      <th>12</th>\n",
       "      <th>13</th>\n",
       "      <th>14</th>\n",
       "      <th>15</th>\n",
       "      <th>16</th>\n",
       "      <th>17</th>\n",
       "    </tr>\n",
       "  </thead>\n",
       "  <tbody>\n",
       "    <tr>\n",
       "      <th>0</th>\n",
       "      <td>NaN</td>\n",
       "      <td>Name</td>\n",
       "      <td>Manufacturer:</td>\n",
       "      <td>Cores:</td>\n",
       "      <td>Memory:</td>\n",
       "      <td>Processor:</td>\n",
       "      <td>Interconnect:</td>\n",
       "      <td>Linpack Performance (Rmax)</td>\n",
       "      <td>Theoretical Peak (Rpeak)</td>\n",
       "      <td>Nmax</td>\n",
       "      <td>HPCG [TFlop/s]</td>\n",
       "      <td>Power Measurement Level:</td>\n",
       "      <td>Operating System:</td>\n",
       "      <td>Compiler:</td>\n",
       "      <td>Math Library:</td>\n",
       "      <td>MPI:</td>\n",
       "      <td>Power:</td>\n",
       "      <td>Nhalf</td>\n",
       "    </tr>\n",
       "    <tr>\n",
       "      <th>1</th>\n",
       "      <td>0.0</td>\n",
       "      <td>CM-5/1024</td>\n",
       "      <td>TMC</td>\n",
       "      <td>1,024</td>\n",
       "      <td>0 GB</td>\n",
       "      <td>SuperSPARC I  32MHz</td>\n",
       "      <td>Hypercube, tree</td>\n",
       "      <td>0.0597 TFlop/s</td>\n",
       "      <td>0.131 TFlop/s</td>\n",
       "      <td>52,224</td>\n",
       "      <td>False</td>\n",
       "      <td>False</td>\n",
       "      <td>CMOST</td>\n",
       "      <td>False</td>\n",
       "      <td>False</td>\n",
       "      <td>False</td>\n",
       "      <td>False</td>\n",
       "      <td>24,064</td>\n",
       "    </tr>\n",
       "    <tr>\n",
       "      <th>2</th>\n",
       "      <td>1.0</td>\n",
       "      <td>CM-5/544</td>\n",
       "      <td>TMC</td>\n",
       "      <td>544</td>\n",
       "      <td>0 GB</td>\n",
       "      <td>SuperSPARC I  32MHz</td>\n",
       "      <td>Hypercube, tree</td>\n",
       "      <td>0.0304 TFlop/s</td>\n",
       "      <td>0.06963 TFlop/s</td>\n",
       "      <td>36,864</td>\n",
       "      <td>False</td>\n",
       "      <td>False</td>\n",
       "      <td>CMOST</td>\n",
       "      <td>False</td>\n",
       "      <td>False</td>\n",
       "      <td>False</td>\n",
       "      <td>False</td>\n",
       "      <td>16,384</td>\n",
       "    </tr>\n",
       "    <tr>\n",
       "      <th>3</th>\n",
       "      <td>2.0</td>\n",
       "      <td>CM-5/512</td>\n",
       "      <td>TMC</td>\n",
       "      <td>512</td>\n",
       "      <td>0 GB</td>\n",
       "      <td>SuperSPARC I  32MHz</td>\n",
       "      <td>Hypercube, tree</td>\n",
       "      <td>0.0304 TFlop/s</td>\n",
       "      <td>0.06554 TFlop/s</td>\n",
       "      <td>36,864</td>\n",
       "      <td>False</td>\n",
       "      <td>False</td>\n",
       "      <td>CMOST</td>\n",
       "      <td>False</td>\n",
       "      <td>False</td>\n",
       "      <td>False</td>\n",
       "      <td>False</td>\n",
       "      <td>16,384</td>\n",
       "    </tr>\n",
       "    <tr>\n",
       "      <th>4</th>\n",
       "      <td>3.0</td>\n",
       "      <td>CM-5/512</td>\n",
       "      <td>TMC</td>\n",
       "      <td>512</td>\n",
       "      <td>0 GB</td>\n",
       "      <td>SuperSPARC I  32MHz</td>\n",
       "      <td>Hypercube, tree</td>\n",
       "      <td>0.0304 TFlop/s</td>\n",
       "      <td>0.06554 TFlop/s</td>\n",
       "      <td>36,864</td>\n",
       "      <td>False</td>\n",
       "      <td>False</td>\n",
       "      <td>CMOST</td>\n",
       "      <td>False</td>\n",
       "      <td>False</td>\n",
       "      <td>False</td>\n",
       "      <td>False</td>\n",
       "      <td>16,384</td>\n",
       "    </tr>\n",
       "  </tbody>\n",
       "</table>\n",
       "</div>"
      ],
      "text/plain": [
       "    0          1              2       3        4                    5   \\\n",
       "0  NaN       Name  Manufacturer:  Cores:  Memory:           Processor:   \n",
       "1  0.0  CM-5/1024            TMC   1,024     0 GB  SuperSPARC I  32MHz   \n",
       "2  1.0   CM-5/544            TMC     544     0 GB  SuperSPARC I  32MHz   \n",
       "3  2.0   CM-5/512            TMC     512     0 GB  SuperSPARC I  32MHz   \n",
       "4  3.0   CM-5/512            TMC     512     0 GB  SuperSPARC I  32MHz   \n",
       "\n",
       "                6                           7                         8   \\\n",
       "0    Interconnect:  Linpack Performance (Rmax)  Theoretical Peak (Rpeak)   \n",
       "1  Hypercube, tree              0.0597 TFlop/s             0.131 TFlop/s   \n",
       "2  Hypercube, tree              0.0304 TFlop/s           0.06963 TFlop/s   \n",
       "3  Hypercube, tree              0.0304 TFlop/s           0.06554 TFlop/s   \n",
       "4  Hypercube, tree              0.0304 TFlop/s           0.06554 TFlop/s   \n",
       "\n",
       "       9               10                        11                 12  \\\n",
       "0    Nmax  HPCG [TFlop/s]  Power Measurement Level:  Operating System:   \n",
       "1  52,224           False                     False              CMOST   \n",
       "2  36,864           False                     False              CMOST   \n",
       "3  36,864           False                     False              CMOST   \n",
       "4  36,864           False                     False              CMOST   \n",
       "\n",
       "          13             14     15      16      17  \n",
       "0  Compiler:  Math Library:   MPI:  Power:   Nhalf  \n",
       "1      False          False  False   False  24,064  \n",
       "2      False          False  False   False  16,384  \n",
       "3      False          False  False   False  16,384  \n",
       "4      False          False  False   False  16,384  "
      ]
     },
     "execution_count": 3,
     "metadata": {},
     "output_type": "execute_result"
    }
   ],
   "source": [
    "file.head()"
   ]
  },
  {
   "cell_type": "code",
   "execution_count": 4,
   "id": "e7350716",
   "metadata": {},
   "outputs": [],
   "source": [
    "gen_table = pd.DataFrame()"
   ]
  },
  {
   "cell_type": "code",
   "execution_count": 5,
   "id": "88055d82",
   "metadata": {},
   "outputs": [],
   "source": [
    "for name in os.listdir('top500'):\n",
    "    month = {'November': 11, 'December': 12, 'June': 6}\n",
    "    tmp_file = pd.read_csv('top500/'+ name, header=None)\n",
    "    tmp_file['month_in_progress'] =int((month[name.split(\" \")[0]])-6 + 12*(int(name.split(\" \")[1].split(\".\")[0]) - 1993))*30\n",
    "    gen_table = gen_table.append(tmp_file.iloc[[1]], ignore_index=True)"
   ]
  },
  {
   "cell_type": "code",
   "execution_count": 6,
   "id": "425bd254",
   "metadata": {},
   "outputs": [
    {
     "data": {
      "text/html": [
       "<div>\n",
       "<style scoped>\n",
       "    .dataframe tbody tr th:only-of-type {\n",
       "        vertical-align: middle;\n",
       "    }\n",
       "\n",
       "    .dataframe tbody tr th {\n",
       "        vertical-align: top;\n",
       "    }\n",
       "\n",
       "    .dataframe thead th {\n",
       "        text-align: right;\n",
       "    }\n",
       "</style>\n",
       "<table border=\"1\" class=\"dataframe\">\n",
       "  <thead>\n",
       "    <tr style=\"text-align: right;\">\n",
       "      <th></th>\n",
       "      <th>0</th>\n",
       "      <th>1</th>\n",
       "      <th>2</th>\n",
       "      <th>3</th>\n",
       "      <th>4</th>\n",
       "      <th>5</th>\n",
       "      <th>6</th>\n",
       "      <th>7</th>\n",
       "      <th>8</th>\n",
       "      <th>9</th>\n",
       "      <th>10</th>\n",
       "      <th>11</th>\n",
       "      <th>12</th>\n",
       "      <th>13</th>\n",
       "      <th>14</th>\n",
       "      <th>15</th>\n",
       "      <th>16</th>\n",
       "      <th>17</th>\n",
       "      <th>month_in_progress</th>\n",
       "    </tr>\n",
       "  </thead>\n",
       "  <tbody>\n",
       "    <tr>\n",
       "      <th>0</th>\n",
       "      <td>0.0</td>\n",
       "      <td>Numerical Wind Tunnel</td>\n",
       "      <td>Fujitsu</td>\n",
       "      <td>140</td>\n",
       "      <td>0 GB</td>\n",
       "      <td>Fujitsu  105MHz</td>\n",
       "      <td>Full distributed crossbar</td>\n",
       "      <td>0.19198 TFlop/s</td>\n",
       "      <td>0.23579 TFlop/s</td>\n",
       "      <td>False</td>\n",
       "      <td>False</td>\n",
       "      <td>False</td>\n",
       "      <td>UXP/V</td>\n",
       "      <td>False</td>\n",
       "      <td>False</td>\n",
       "      <td>False</td>\n",
       "      <td>False</td>\n",
       "      <td>False</td>\n",
       "      <td>900</td>\n",
       "    </tr>\n",
       "    <tr>\n",
       "      <th>1</th>\n",
       "      <td>0.0</td>\n",
       "      <td>CM-5/1024</td>\n",
       "      <td>TMC</td>\n",
       "      <td>1,024</td>\n",
       "      <td>0 GB</td>\n",
       "      <td>SuperSPARC I  32MHz</td>\n",
       "      <td>Hypercube, tree</td>\n",
       "      <td>0.0597 TFlop/s</td>\n",
       "      <td>0.131 TFlop/s</td>\n",
       "      <td>52,224</td>\n",
       "      <td>False</td>\n",
       "      <td>False</td>\n",
       "      <td>CMOST</td>\n",
       "      <td>False</td>\n",
       "      <td>False</td>\n",
       "      <td>False</td>\n",
       "      <td>False</td>\n",
       "      <td>24,064</td>\n",
       "      <td>0</td>\n",
       "    </tr>\n",
       "    <tr>\n",
       "      <th>2</th>\n",
       "      <td>0.0</td>\n",
       "      <td>XP/S140</td>\n",
       "      <td>Intel</td>\n",
       "      <td>3,680</td>\n",
       "      <td>0 GB</td>\n",
       "      <td>Intel 80860  50MHz</td>\n",
       "      <td>2-D mesh (torus)</td>\n",
       "      <td>0.1434 TFlop/s</td>\n",
       "      <td>0.184 TFlop/s</td>\n",
       "      <td>55,700</td>\n",
       "      <td>False</td>\n",
       "      <td>False</td>\n",
       "      <td>OSF/1</td>\n",
       "      <td>False</td>\n",
       "      <td>False</td>\n",
       "      <td>False</td>\n",
       "      <td>False</td>\n",
       "      <td>20,500</td>\n",
       "      <td>360</td>\n",
       "    </tr>\n",
       "    <tr>\n",
       "      <th>3</th>\n",
       "      <td>0.0</td>\n",
       "      <td>Numerical Wind Tunnel</td>\n",
       "      <td>Fujitsu</td>\n",
       "      <td>140</td>\n",
       "      <td>0 GB</td>\n",
       "      <td>Fujitsu  105MHz</td>\n",
       "      <td>Full distributed crossbar</td>\n",
       "      <td>0.19198 TFlop/s</td>\n",
       "      <td>0.23579 TFlop/s</td>\n",
       "      <td>False</td>\n",
       "      <td>False</td>\n",
       "      <td>False</td>\n",
       "      <td>UXP/V</td>\n",
       "      <td>False</td>\n",
       "      <td>False</td>\n",
       "      <td>False</td>\n",
       "      <td>False</td>\n",
       "      <td>False</td>\n",
       "      <td>720</td>\n",
       "    </tr>\n",
       "    <tr>\n",
       "      <th>4</th>\n",
       "      <td>0.0</td>\n",
       "      <td>SR2201/1024</td>\n",
       "      <td>Hitachi</td>\n",
       "      <td>1,024</td>\n",
       "      <td>0 GB</td>\n",
       "      <td>HARP-1E  150MHz</td>\n",
       "      <td>Hyper crossbar</td>\n",
       "      <td>0.2324 TFlop/s</td>\n",
       "      <td>0.3072 TFlop/s</td>\n",
       "      <td>155,520</td>\n",
       "      <td>False</td>\n",
       "      <td>False</td>\n",
       "      <td>HI-UX/MPP</td>\n",
       "      <td>False</td>\n",
       "      <td>False</td>\n",
       "      <td>False</td>\n",
       "      <td>False</td>\n",
       "      <td>34,560</td>\n",
       "      <td>1080</td>\n",
       "    </tr>\n",
       "  </tbody>\n",
       "</table>\n",
       "</div>"
      ],
      "text/plain": [
       "     0                      1        2      3     4                    5  \\\n",
       "0  0.0  Numerical Wind Tunnel  Fujitsu    140  0 GB      Fujitsu  105MHz   \n",
       "1  0.0              CM-5/1024      TMC  1,024  0 GB  SuperSPARC I  32MHz   \n",
       "2  0.0                XP/S140    Intel  3,680  0 GB   Intel 80860  50MHz   \n",
       "3  0.0  Numerical Wind Tunnel  Fujitsu    140  0 GB      Fujitsu  105MHz   \n",
       "4  0.0            SR2201/1024  Hitachi  1,024  0 GB      HARP-1E  150MHz   \n",
       "\n",
       "                           6                7                8        9  \\\n",
       "0  Full distributed crossbar  0.19198 TFlop/s  0.23579 TFlop/s    False   \n",
       "1            Hypercube, tree   0.0597 TFlop/s    0.131 TFlop/s   52,224   \n",
       "2           2-D mesh (torus)   0.1434 TFlop/s    0.184 TFlop/s   55,700   \n",
       "3  Full distributed crossbar  0.19198 TFlop/s  0.23579 TFlop/s    False   \n",
       "4             Hyper crossbar   0.2324 TFlop/s   0.3072 TFlop/s  155,520   \n",
       "\n",
       "      10     11         12     13     14     15     16      17  \\\n",
       "0  False  False      UXP/V  False  False  False  False   False   \n",
       "1  False  False      CMOST  False  False  False  False  24,064   \n",
       "2  False  False      OSF/1  False  False  False  False  20,500   \n",
       "3  False  False      UXP/V  False  False  False  False   False   \n",
       "4  False  False  HI-UX/MPP  False  False  False  False  34,560   \n",
       "\n",
       "   month_in_progress  \n",
       "0                900  \n",
       "1                  0  \n",
       "2                360  \n",
       "3                720  \n",
       "4               1080  "
      ]
     },
     "execution_count": 6,
     "metadata": {},
     "output_type": "execute_result"
    }
   ],
   "source": [
    "gen_table.head()"
   ]
  },
  {
   "cell_type": "code",
   "execution_count": 7,
   "id": "51b4b375",
   "metadata": {},
   "outputs": [],
   "source": [
    "gen_table = gen_table.iloc[:, [7, 18]]"
   ]
  },
  {
   "cell_type": "code",
   "execution_count": 8,
   "id": "f442191d",
   "metadata": {},
   "outputs": [
    {
     "data": {
      "text/plain": [
       "'0.19198 TFlop/s'"
      ]
     },
     "execution_count": 8,
     "metadata": {},
     "output_type": "execute_result"
    }
   ],
   "source": [
    "gen_table.iloc[0, 0]"
   ]
  },
  {
   "cell_type": "code",
   "execution_count": 10,
   "id": "7e6a0cb9",
   "metadata": {},
   "outputs": [],
   "source": [
    "for i in range(57):\n",
    "    a = copy.deepcopy(gen_table.iloc[i, 0].split(\" \")[0])\n",
    "    a = a.replace(\",\", \"\")\n",
    "    a = float(a)\n",
    "\n",
    "    gen_table.iloc[i, 0] = np.log(a*1000)"
   ]
  },
  {
   "cell_type": "code",
   "execution_count": 11,
   "id": "822c3643",
   "metadata": {},
   "outputs": [],
   "source": [
    "gen_table = gen_table.sort_values('month_in_progress')"
   ]
  },
  {
   "cell_type": "code",
   "execution_count": 13,
   "id": "9e1ea322",
   "metadata": {},
   "outputs": [],
   "source": [
    "predict = pd.read_csv('2025.csv', header=None)"
   ]
  },
  {
   "cell_type": "code",
   "execution_count": 14,
   "id": "3b6a4916",
   "metadata": {},
   "outputs": [],
   "source": [
    "predict[[0]]= 389*30"
   ]
  },
  {
   "cell_type": "code",
   "execution_count": 15,
   "id": "7c5463e1",
   "metadata": {},
   "outputs": [
    {
     "data": {
      "text/plain": [
       "LinearRegression()"
      ]
     },
     "execution_count": 15,
     "metadata": {},
     "output_type": "execute_result"
    }
   ],
   "source": [
    "lr = LinearRegression()\n",
    "lr.fit(np.array(gen_table['month_in_progress']).reshape(-1, 1), gen_table[7])"
   ]
  },
  {
   "cell_type": "code",
   "execution_count": 16,
   "id": "df4db4db",
   "metadata": {},
   "outputs": [],
   "source": [
    "answer = lr.predict(predict[[0]])"
   ]
  },
  {
   "cell_type": "code",
   "execution_count": 18,
   "id": "0e0d32e0",
   "metadata": {},
   "outputs": [
    {
     "data": {
      "text/plain": [
       "19827791151.224625"
      ]
     },
     "execution_count": 18,
     "metadata": {},
     "output_type": "execute_result"
    }
   ],
   "source": [
    "np.exp(answer[0])"
   ]
  },
  {
   "cell_type": "markdown",
   "id": "73f16d65",
   "metadata": {},
   "source": [
    "Прогнозируемая производительность топ-1 суперкомпьютера к 2025 году - 19.8 EFlop/s, хотя визуальный анализ графиков подсказывает, что к 2025 году производительность топ-1 суперкомпьютера будет лежать в границах 1.5-3 EFlop/s."
   ]
  },
  {
   "cell_type": "markdown",
   "id": "093da072",
   "metadata": {},
   "source": [
    "# Оцените какой процент всего производимого на Земле электричества потребляют все компьютеры из top500 "
   ]
  },
  {
   "cell_type": "markdown",
   "id": "20023b28",
   "metadata": {},
   "source": [
    "По данным British Petroleum в 2020 году было произведено 26823,248 ТВт*ч электроэнрегии"
   ]
  },
  {
   "cell_type": "code",
   "execution_count": 204,
   "id": "3f21a86c",
   "metadata": {},
   "outputs": [],
   "source": [
    "all_power = 26823.248"
   ]
  },
  {
   "cell_type": "code",
   "execution_count": 192,
   "id": "11f2ddb8",
   "metadata": {},
   "outputs": [],
   "source": [
    "top500 = pd.read_csv('./Top500.csv', delimiter=';')"
   ]
  },
  {
   "cell_type": "code",
   "execution_count": 193,
   "id": "bcdc0e7d",
   "metadata": {},
   "outputs": [
    {
     "data": {
      "text/plain": [
       "array(['Rank', 'Previous Rank', 'First Appearance', 'First Rank', 'Name',\n",
       "       'Computer', 'Site', 'Manufacturer', 'Country', 'Year', 'Segment',\n",
       "       'Total Cores', 'Accelerator/Co-Processor Cores', 'Rmax [TFlop/s]',\n",
       "       'Rpeak [TFlop/s]', 'Nmax', 'Nhalf', 'HPCG [TFlop/s]', 'Power (kW)',\n",
       "       'Power Source', 'Power Efficiency [GFlops/Watts]', 'Memory',\n",
       "       'Architecture', 'Processor', 'Processor Technology',\n",
       "       'Processor Speed (MHz)', 'Operating System', 'OS Family',\n",
       "       'Accelerator/Co-Processor', 'Cores per Socket',\n",
       "       'Processor Generation', 'System Model', 'System Family',\n",
       "       'Interconnect Family', 'Interconnect', 'Continent', 'Site ID',\n",
       "       'System ID'], dtype=object)"
      ]
     },
     "execution_count": 193,
     "metadata": {},
     "output_type": "execute_result"
    }
   ],
   "source": [
    "top500.columns.values"
   ]
  },
  {
   "cell_type": "code",
   "execution_count": 194,
   "id": "ea184c4e",
   "metadata": {},
   "outputs": [],
   "source": [
    "top500 = top500[['Power (kW)']]"
   ]
  },
  {
   "cell_type": "code",
   "execution_count": 195,
   "id": "cdd4ba9c",
   "metadata": {},
   "outputs": [
    {
     "data": {
      "text/html": [
       "<div>\n",
       "<style scoped>\n",
       "    .dataframe tbody tr th:only-of-type {\n",
       "        vertical-align: middle;\n",
       "    }\n",
       "\n",
       "    .dataframe tbody tr th {\n",
       "        vertical-align: top;\n",
       "    }\n",
       "\n",
       "    .dataframe thead th {\n",
       "        text-align: right;\n",
       "    }\n",
       "</style>\n",
       "<table border=\"1\" class=\"dataframe\">\n",
       "  <thead>\n",
       "    <tr style=\"text-align: right;\">\n",
       "      <th></th>\n",
       "      <th>Power (kW)</th>\n",
       "    </tr>\n",
       "  </thead>\n",
       "  <tbody>\n",
       "    <tr>\n",
       "      <th>0</th>\n",
       "      <td>29 899,23</td>\n",
       "    </tr>\n",
       "    <tr>\n",
       "      <th>1</th>\n",
       "      <td>10 096,00</td>\n",
       "    </tr>\n",
       "    <tr>\n",
       "      <th>2</th>\n",
       "      <td>7 438,28</td>\n",
       "    </tr>\n",
       "    <tr>\n",
       "      <th>3</th>\n",
       "      <td>15 371,00</td>\n",
       "    </tr>\n",
       "    <tr>\n",
       "      <th>4</th>\n",
       "      <td>2 528,00</td>\n",
       "    </tr>\n",
       "    <tr>\n",
       "      <th>...</th>\n",
       "      <td>...</td>\n",
       "    </tr>\n",
       "    <tr>\n",
       "      <th>495</th>\n",
       "      <td>NaN</td>\n",
       "    </tr>\n",
       "    <tr>\n",
       "      <th>496</th>\n",
       "      <td>603,40</td>\n",
       "    </tr>\n",
       "    <tr>\n",
       "      <th>497</th>\n",
       "      <td>NaN</td>\n",
       "    </tr>\n",
       "    <tr>\n",
       "      <th>498</th>\n",
       "      <td>NaN</td>\n",
       "    </tr>\n",
       "    <tr>\n",
       "      <th>499</th>\n",
       "      <td>NaN</td>\n",
       "    </tr>\n",
       "  </tbody>\n",
       "</table>\n",
       "<p>500 rows × 1 columns</p>\n",
       "</div>"
      ],
      "text/plain": [
       "    Power (kW)\n",
       "0    29 899,23\n",
       "1    10 096,00\n",
       "2     7 438,28\n",
       "3    15 371,00\n",
       "4     2 528,00\n",
       "..         ...\n",
       "495        NaN\n",
       "496     603,40\n",
       "497        NaN\n",
       "498        NaN\n",
       "499        NaN\n",
       "\n",
       "[500 rows x 1 columns]"
      ]
     },
     "execution_count": 195,
     "metadata": {},
     "output_type": "execute_result"
    }
   ],
   "source": [
    "top500"
   ]
  },
  {
   "cell_type": "code",
   "execution_count": 196,
   "id": "7ec61193",
   "metadata": {},
   "outputs": [
    {
     "data": {
      "text/plain": [
       "'29\\xa0899,23'"
      ]
     },
     "execution_count": 196,
     "metadata": {},
     "output_type": "execute_result"
    }
   ],
   "source": [
    "top500.iloc[0, 0]"
   ]
  },
  {
   "cell_type": "code",
   "execution_count": 197,
   "id": "0907970a",
   "metadata": {},
   "outputs": [],
   "source": [
    "top500['Power (kW)'] = top500['Power (kW)'].str.replace(',', '.').str.replace(u'\\xa0', '').astype(float)"
   ]
  },
  {
   "cell_type": "code",
   "execution_count": 198,
   "id": "d01cecc0",
   "metadata": {},
   "outputs": [],
   "source": [
    "top500=top500['Power (kW)']"
   ]
  },
  {
   "cell_type": "code",
   "execution_count": 199,
   "id": "98661851",
   "metadata": {},
   "outputs": [],
   "source": [
    "top500 = top500.interpolate(method ='linear', limit_direction ='backward')"
   ]
  },
  {
   "cell_type": "code",
   "execution_count": 200,
   "id": "838f2cd2",
   "metadata": {},
   "outputs": [
    {
     "data": {
      "text/plain": [
       "0      29899.230000\n",
       "1      10096.000000\n",
       "2       7438.280000\n",
       "3      15371.000000\n",
       "4       2528.000000\n",
       "           ...     \n",
       "495      643.022222\n",
       "496      603.400000\n",
       "497             NaN\n",
       "498             NaN\n",
       "499             NaN\n",
       "Name: Power (kW), Length: 500, dtype: float64"
      ]
     },
     "execution_count": 200,
     "metadata": {},
     "output_type": "execute_result"
    }
   ],
   "source": [
    "top500"
   ]
  },
  {
   "cell_type": "code",
   "execution_count": 201,
   "id": "244c26fd",
   "metadata": {},
   "outputs": [
    {
     "data": {
      "text/plain": [
       "7.5310469418"
      ]
     },
     "execution_count": 201,
     "metadata": {},
     "output_type": "execute_result"
    }
   ],
   "source": [
    "top500_power = (top500.sum() * 8760) / 1e9\n",
    "top500_power"
   ]
  },
  {
   "cell_type": "code",
   "execution_count": 202,
   "id": "522aa3a5",
   "metadata": {},
   "outputs": [],
   "source": []
  },
  {
   "cell_type": "code",
   "execution_count": 205,
   "id": "a0ca00c6",
   "metadata": {},
   "outputs": [
    {
     "data": {
      "text/plain": [
       "0.028076566051210502"
      ]
     },
     "execution_count": 205,
     "metadata": {},
     "output_type": "execute_result"
    }
   ],
   "source": [
    "(top500_power / all_power) * 100"
   ]
  },
  {
   "cell_type": "markdown",
   "id": "7d771baa",
   "metadata": {},
   "source": [
    "Суперкомпьютеры из списка ТОП-500 за 6.2021 потребляют 0,028% всей произведенной электроэнергии в 2020 году"
   ]
  },
  {
   "cell_type": "code",
   "execution_count": null,
   "id": "f00adede",
   "metadata": {},
   "outputs": [],
   "source": []
  }
 ],
 "metadata": {
  "kernelspec": {
   "display_name": "Python 3",
   "language": "python",
   "name": "python3"
  },
  "language_info": {
   "codemirror_mode": {
    "name": "ipython",
    "version": 3
   },
   "file_extension": ".py",
   "mimetype": "text/x-python",
   "name": "python",
   "nbconvert_exporter": "python",
   "pygments_lexer": "ipython3",
   "version": "3.8.8"
  }
 },
 "nbformat": 4,
 "nbformat_minor": 5
}
